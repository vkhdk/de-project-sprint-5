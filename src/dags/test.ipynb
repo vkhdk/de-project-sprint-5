{
 "cells": [
  {
   "cell_type": "code",
   "execution_count": 1,
   "metadata": {},
   "outputs": [],
   "source": [
    "secrets = {\n",
    "    'nickname': 'vkhdk',\n",
    "    'cohort': '26',\n",
    "    'api_key': '25c27781-8fde-4b30-a22e-524044a7580f',\n",
    "    'api_endpoint': 'd5d04q7d963eapoepsqr.apigw.yandexcloud.net',\n",
    "    'pg_host': 'localhost',\n",
    "    'pg_port': '5432',\n",
    "    'pg_base_name': 'de',\n",
    "    'pg_user': 'jovyan',\n",
    "    'pg_password': 'jovyan',\n",
    "    'stage_schema_name': 'stage',\n",
    "    'dm_schema_name': 'mart'\n",
    "}"
   ]
  },
  {
   "cell_type": "code",
   "execution_count": 2,
   "metadata": {},
   "outputs": [
    {
     "data": {
      "text/plain": [
       "{'nickname': 'vkhdk',\n",
       " 'cohort': '26',\n",
       " 'api_key': '25c27781-8fde-4b30-a22e-524044a7580f',\n",
       " 'api_endpoint': 'd5d04q7d963eapoepsqr.apigw.yandexcloud.net',\n",
       " 'pg_host': 'localhost',\n",
       " 'pg_port': '5432',\n",
       " 'pg_base_name': 'de',\n",
       " 'pg_user': 'jovyan',\n",
       " 'pg_password': 'jovyan',\n",
       " 'stage_schema_name': 'stage',\n",
       " 'dm_schema_name': 'mart'}"
      ]
     },
     "execution_count": 2,
     "metadata": {},
     "output_type": "execute_result"
    }
   ],
   "source": [
    "secrets"
   ]
  },
  {
   "cell_type": "code",
   "execution_count": 3,
   "metadata": {},
   "outputs": [],
   "source": [
    "api_key = secrets['api_key']\n",
    "nickname = secrets['nickname']\n",
    "cohort = secrets['cohort']\n",
    "api_endpoint = secrets['api_endpoint']"
   ]
  },
  {
   "cell_type": "code",
   "execution_count": 4,
   "metadata": {},
   "outputs": [],
   "source": [
    "import requests\n",
    "import json"
   ]
  },
  {
   "cell_type": "code",
   "execution_count": 5,
   "metadata": {},
   "outputs": [],
   "source": [
    "headers = {\n",
    "            'X-API-KEY': api_key,\n",
    "            'X-Nickname': nickname,\n",
    "            'X-Cohort': cohort,\n",
    "            'X-Project': 'True'\n",
    "            }"
   ]
  },
  {
   "cell_type": "code",
   "execution_count": 6,
   "metadata": {},
   "outputs": [],
   "source": [
    "method_restaurants = '/restaurants'"
   ]
  },
  {
   "cell_type": "code",
   "execution_count": 7,
   "metadata": {},
   "outputs": [],
   "source": [
    "response_restaurants = requests.get('https://'+api_endpoint + method_restaurants, headers=headers, params = {'sort_field':'id', \n",
    "                                                                                     'sort_direction':'asc', \n",
    "                                                                                     'limit': 10,\n",
    "                                                                                     'offset': 0})"
   ]
  },
  {
   "cell_type": "code",
   "execution_count": 14,
   "metadata": {},
   "outputs": [
    {
     "data": {
      "text/plain": [
       "'https://d5d04q7d963eapoepsqr.apigw.yandexcloud.net/restaurants'"
      ]
     },
     "execution_count": 14,
     "metadata": {},
     "output_type": "execute_result"
    }
   ],
   "source": []
  },
  {
   "cell_type": "code",
   "execution_count": 8,
   "metadata": {},
   "outputs": [
    {
     "data": {
      "text/plain": [
       "<Response [200]>"
      ]
     },
     "execution_count": 8,
     "metadata": {},
     "output_type": "execute_result"
    }
   ],
   "source": [
    "response_restaurants"
   ]
  },
  {
   "cell_type": "code",
   "execution_count": 9,
   "metadata": {},
   "outputs": [
    {
     "data": {
      "text/plain": [
       "[{'_id': '626a81cfefa404208fe9abae', 'name': 'Кофейня №1'},\n",
       " {'_id': 'a51e4e31ae4602047ec52534', 'name': 'Кубдари'},\n",
       " {'_id': 'ebfa4c9b8dadfc1da37ab58d', 'name': 'PLove'},\n",
       " {'_id': 'ef8c42c19b7518a9aebec106', 'name': 'Вкус Индии'}]"
      ]
     },
     "execution_count": 9,
     "metadata": {},
     "output_type": "execute_result"
    }
   ],
   "source": [
    "json.loads(response_restaurants.content)"
   ]
  },
  {
   "cell_type": "code",
   "execution_count": 10,
   "metadata": {},
   "outputs": [],
   "source": [
    "method_couriers = '/couriers'"
   ]
  },
  {
   "cell_type": "code",
   "execution_count": 11,
   "metadata": {},
   "outputs": [],
   "source": [
    "response_couriers = requests.get('https://'+api_endpoint + method_couriers, headers=headers, params = {'sort_field':'id', \n",
    "                                                                                     'sort_direction':'asc', \n",
    "                                                                                     'limit': 10,\n",
    "                                                                                     'offset': 0})"
   ]
  },
  {
   "cell_type": "code",
   "execution_count": 15,
   "metadata": {},
   "outputs": [
    {
     "data": {
      "text/plain": [
       "'https://d5d04q7d963eapoepsqr.apigw.yandexcloud.net/couriers'"
      ]
     },
     "execution_count": 15,
     "metadata": {},
     "output_type": "execute_result"
    }
   ],
   "source": [
    "'https://'+api_endpoint + method_couriers"
   ]
  },
  {
   "cell_type": "code",
   "execution_count": 16,
   "metadata": {},
   "outputs": [
    {
     "data": {
      "text/plain": [
       "10"
      ]
     },
     "execution_count": 16,
     "metadata": {},
     "output_type": "execute_result"
    }
   ],
   "source": [
    "len(json.loads(response_couriers.content))"
   ]
  },
  {
   "cell_type": "code",
   "execution_count": 13,
   "metadata": {},
   "outputs": [],
   "source": [
    "method_deliveries = '/deliveries'"
   ]
  },
  {
   "cell_type": "code",
   "execution_count": 62,
   "metadata": {},
   "outputs": [],
   "source": [
    "response_deliveries = requests.get('https://'+api_endpoint + method_deliveries, headers=headers, params = {'sort_field':'_id',\n",
    "                                                                                                           'restaurant_id': '626a81cfefa404208fe9abae',\n",
    "                                                                                                           'from': '2024-07-16 00:00:00',\n",
    "                                                                                                           'to': '2024-07-16 23:59:59',\n",
    "                                                                                     'sort_direction':'asc', \n",
    "                                                                                     'limit': 10,\n",
    "                                                                                     'offset': 0})"
   ]
  },
  {
   "cell_type": "code",
   "execution_count": 63,
   "metadata": {},
   "outputs": [
    {
     "data": {
      "text/plain": [
       "[{'order_id': '6695ba6d0bac4573f4cd6f0f',\n",
       "  'order_ts': '2024-07-16 00:10:21.233000',\n",
       "  'delivery_id': 'bsyzlgv41vlj76ug7cx1umw',\n",
       "  'courier_id': 'hd9h206wv7cihzeo8dm69zu',\n",
       "  'address': 'Ул. Молодежная, 15, кв. 228',\n",
       "  'delivery_ts': '2024-07-16 01:33:31.202000',\n",
       "  'rate': 5,\n",
       "  'sum': 1380,\n",
       "  'tip_sum': 69},\n",
       " {'order_id': '6695bcc6369c16be30403fe4',\n",
       "  'order_ts': '2024-07-16 00:20:22.314000',\n",
       "  'delivery_id': 'au44f47rxuagq9dkeuhbinl',\n",
       "  'courier_id': 'rwzsta9g032p76r5p9wvpxg',\n",
       "  'address': 'Ул. Молодежная, 12, кв. 244',\n",
       "  'delivery_ts': '2024-07-16 01:58:24.380000',\n",
       "  'rate': 5,\n",
       "  'sum': 1860,\n",
       "  'tip_sum': 93},\n",
       " {'order_id': '6695c501c178ad559189fe37',\n",
       "  'order_ts': '2024-07-16 00:55:29.024000',\n",
       "  'delivery_id': 'w9q4d0a4946g4p7pi22dvdr',\n",
       "  'courier_id': 'hof5gr3q9y2a2v50o8ul9p4',\n",
       "  'address': 'Ул. Центральная, 7, кв. 303',\n",
       "  'delivery_ts': '2024-07-16 01:18:33.521000',\n",
       "  'rate': 5,\n",
       "  'sum': 2400,\n",
       "  'tip_sum': 360},\n",
       " {'order_id': '6695c63083b41fc5a37a99b8',\n",
       "  'order_ts': '2024-07-16 01:00:32.003000',\n",
       "  'delivery_id': 'ik0aefkuaax1p3j4rffc847',\n",
       "  'courier_id': '888k30rxwfy8kgf8lwe4qob',\n",
       "  'address': 'Ул. Советская, 6, кв. 359',\n",
       "  'delivery_ts': '2024-07-16 02:40:33.097000',\n",
       "  'rate': 4,\n",
       "  'sum': 3240,\n",
       "  'tip_sum': 324},\n",
       " {'order_id': '6695cbfd854f4b649a7e3072',\n",
       "  'order_ts': '2024-07-16 01:25:17.774000',\n",
       "  'delivery_id': 'iy9k3p182mti8ipzyugivbf',\n",
       "  'courier_id': 'irkomzonykzua02a5u17jpv',\n",
       "  'address': 'Ул. Советская, 9, кв. 375',\n",
       "  'delivery_ts': '2024-07-16 01:58:24.019000',\n",
       "  'rate': 5,\n",
       "  'sum': 600,\n",
       "  'tip_sum': 60},\n",
       " {'order_id': '6695d0b1d7975eeb59863555',\n",
       "  'order_ts': '2024-07-16 01:45:21.892000',\n",
       "  'delivery_id': 'teevmujdrp6cmsjt3zw1dwu',\n",
       "  'courier_id': 'tccxfkzq1vmy6o9pdxhwyog',\n",
       "  'address': 'Ул. Зеленая, 12, кв. 118',\n",
       "  'delivery_ts': '2024-07-16 02:29:31.044000',\n",
       "  'rate': 5,\n",
       "  'sum': 3660,\n",
       "  'tip_sum': 366},\n",
       " {'order_id': '6695d7b987a4bdcf5444f518',\n",
       "  'order_ts': '2024-07-16 02:15:21.552000',\n",
       "  'delivery_id': 'l68brlib78eb0g0eu34epb2',\n",
       "  'courier_id': '21iyd66tad2x1as0j2myfxo',\n",
       "  'address': 'Ул. Новая, 2, кв. 427',\n",
       "  'delivery_ts': '2024-07-16 02:47:25.372000',\n",
       "  'rate': 5,\n",
       "  'sum': 5520,\n",
       "  'tip_sum': 552},\n",
       " {'order_id': '6695db42bacb2e22dd088c2b',\n",
       "  'order_ts': '2024-07-16 02:30:26.395000',\n",
       "  'delivery_id': '2oaz7zcrqqu2weglvucp7dt',\n",
       "  'courier_id': 'q82s66uuikgck7a59f2zq4k',\n",
       "  'address': 'Ул. Льва Толстого, 7, кв. 87',\n",
       "  'delivery_ts': '2024-07-16 03:55:29.216000',\n",
       "  'rate': 5,\n",
       "  'sum': 900,\n",
       "  'tip_sum': 45},\n",
       " {'order_id': '6695dc6887cf4db6fa313b38',\n",
       "  'order_ts': '2024-07-16 02:35:20.299000',\n",
       "  'delivery_id': '48sf5l0ecp3lzwyss9tx44w',\n",
       "  'courier_id': 'vssm6aqwf60kqa0e09rw3lh',\n",
       "  'address': 'Ул. Мира, 3, кв. 299',\n",
       "  'delivery_ts': '2024-07-16 04:07:28.575000',\n",
       "  'rate': 5,\n",
       "  'sum': 2640,\n",
       "  'tip_sum': 132},\n",
       " {'order_id': '6695e36f5c15307ed2cd12ff',\n",
       "  'order_ts': '2024-07-16 03:05:19.197000',\n",
       "  'delivery_id': 'bapq8v3dnum78mcu3vqmxln',\n",
       "  'courier_id': 'hd9h206wv7cihzeo8dm69zu',\n",
       "  'address': 'Ул. Молодежная, 12, кв. 88',\n",
       "  'delivery_ts': '2024-07-16 04:11:26.953000',\n",
       "  'rate': 5,\n",
       "  'sum': 3780,\n",
       "  'tip_sum': 189}]"
      ]
     },
     "execution_count": 63,
     "metadata": {},
     "output_type": "execute_result"
    }
   ],
   "source": [
    "json.loads(response_deliveries.content)"
   ]
  },
  {
   "cell_type": "code",
   "execution_count": 2,
   "metadata": {},
   "outputs": [],
   "source": [
    "res_str = f'https://' + 'api_endpoint' + '/' + 'api_method' + '/' + '?sort_field=_id&sort_direction=asc&offset=offset'"
   ]
  },
  {
   "cell_type": "code",
   "execution_count": 3,
   "metadata": {},
   "outputs": [
    {
     "data": {
      "text/plain": [
       "'https://api_endpoint/api_method/?sort_field=_id&sort_direction=asc&offset=offset'"
      ]
     },
     "execution_count": 3,
     "metadata": {},
     "output_type": "execute_result"
    }
   ],
   "source": [
    "res_str"
   ]
  },
  {
   "cell_type": "code",
   "execution_count": null,
   "metadata": {},
   "outputs": [],
   "source": [
    "import json\n",
    "\n",
    "# JSON data\n",
    "json_data = '''\n",
    "{\n",
    "    \"Name\": \"David\",\n",
    "    \"Age\": 28,\n",
    "    \"Gender\": \"M\"\n",
    "}\n",
    "'''\n",
    "\n",
    "# Convert JSON to DataFrame\n",
    "df_new = pd.json_normalize(json.loads(json_data))\n",
    "\n",
    "# Append DataFrame to existing DataFrame\n",
    "df = df.append(df_new, ignore_index=True)"
   ]
  }
 ],
 "metadata": {
  "kernelspec": {
   "display_name": "Python 3",
   "language": "python",
   "name": "python3"
  },
  "language_info": {
   "codemirror_mode": {
    "name": "ipython",
    "version": 3
   },
   "file_extension": ".py",
   "mimetype": "text/x-python",
   "name": "python",
   "nbconvert_exporter": "python",
   "pygments_lexer": "ipython3",
   "version": "3.11.4"
  }
 },
 "nbformat": 4,
 "nbformat_minor": 2
}
