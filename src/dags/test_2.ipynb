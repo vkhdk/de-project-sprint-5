{
 "cells": [
  {
   "cell_type": "code",
   "execution_count": 1,
   "metadata": {},
   "outputs": [],
   "source": [
    "import datetime as dt\n",
    "from datetime import datetime\n",
    "from secrets_p5 import secrets\n",
    "import json\n",
    "import pandas as pd\n",
    "from sqlalchemy import create_engine, text\n",
    "import requests"
   ]
  },
  {
   "cell_type": "code",
   "execution_count": 151,
   "metadata": {},
   "outputs": [],
   "source": [
    "def execute_sql(**kwarg):\n",
    "    pg_user = kwarg['pg_user']\n",
    "    pg_password = kwarg['pg_password']\n",
    "    pg_host = kwarg['pg_host']\n",
    "    pg_port = kwarg['pg_port']\n",
    "    pg_base_name = kwarg['pg_base_name']\n",
    "    stage_schema_name = kwarg['stage_schema_name']\n",
    "    dm_schema_name = kwarg['dm_schema_name']\n",
    "    sql = kwarg['sql']\n",
    "    sql = sql.format(stage_schema_name_f = stage_schema_name, dm_schema_name_f = dm_schema_name)\n",
    "    engine = create_engine(\n",
    "        f'postgresql://{pg_user}:{pg_password}@{pg_host}:{pg_port}/{pg_base_name}', \n",
    "        future=True)\n",
    "    with engine.begin() as conn:\n",
    "        result = conn.execute(text(sql))\n",
    "        conn.commit()\n",
    "    engine.dispose()\n",
    "\n",
    "def get_data_from_api(**kwarg):\n",
    "    api_key = kwarg['api_key']\n",
    "    api_endpoint = kwarg['api_endpoint']\n",
    "    nickname = kwarg['nickname']\n",
    "    cohort = kwarg['cohort']\n",
    "    api_method = kwarg['api_method']\n",
    "    offset = 0\n",
    "    headers = {'X-Nickname': nickname, \n",
    "               'X-Cohort': cohort, \n",
    "               'X-API-KEY': api_key\n",
    "           }\n",
    "    start_time = dt.datetime.now()\n",
    "    while (dt.datetime.now() - start_time).total_seconds() < 30:\n",
    "        res = requests.get('https://'+api_endpoint + api_method,\n",
    "                           headers = headers, \n",
    "                           params = {'sort_field':'_id', \n",
    "                                     'sort_direction':'asc',\n",
    "                                     'offset': offset,\n",
    "                                     'limit': 30})\n",
    "        res_json = json.loads(res.content)\n",
    "        if len(res_json) == 0:\n",
    "            break\n",
    "        if offset == 0:\n",
    "           df_all = pd.DataFrame(res_json)\n",
    "        if offset > 0:\n",
    "            df_new = pd.DataFrame(res_json)\n",
    "            df_all = pd.concat([df_all, df_new], ignore_index=True)\n",
    "        offset = offset + len(res_json)\n",
    "    return df_all"
   ]
  },
  {
   "cell_type": "code",
   "execution_count": 152,
   "metadata": {},
   "outputs": [],
   "source": [
    "op_kwargs = {\n",
    "        'nickname': secrets['nickname'],\n",
    "        'cohort': secrets['cohort'],\n",
    "        'api_key': secrets['api_key'],\n",
    "        'api_endpoint': secrets['api_endpoint'],\n",
    "        'pg_host': secrets['pg_host'],\n",
    "        'pg_port': secrets['pg_port'],\n",
    "        'pg_base_name': secrets['pg_base_name'],\n",
    "        'pg_user': secrets['pg_user'],\n",
    "        'pg_password': secrets['pg_password'],\n",
    "        'stage_schema_name': secrets['stage_schema_name'],\n",
    "        'dm_schema_name': secrets['dm_schema_name'],\n",
    "        'api_method': '/couriers'\n",
    "        }"
   ]
  },
  {
   "cell_type": "code",
   "execution_count": null,
   "metadata": {},
   "outputs": [],
   "source": []
  },
  {
   "cell_type": "code",
   "execution_count": 153,
   "metadata": {},
   "outputs": [
    {
     "name": "stdout",
     "output_type": "stream",
     "text": [
      "[{'_id': '0d7u6nvgvx8ehsvyrelr6np', 'name': 'Алексей Иванов'}, {'_id': '0srjdu35in4sb1zycrfbax1', 'name': 'Елизавета Великая'}, {'_id': '0xwmzgvyi79og3mqxpg8xi5', 'name': 'Екатерина Алексеева'}, {'_id': '10xjhdn45az14zozlf1qcek', 'name': 'Оксана Волкова'}, {'_id': '1hrdkugw6oof2thvhomeovx', 'name': 'Екатерина Козлова'}, {'_id': '1j053zv7afiv1o6wky4j2o1', 'name': 'Алексей Михайлов'}, {'_id': '1mb5dv0328zbq5kz1g3zcjg', 'name': 'Алексей Васильев'}, {'_id': '1x1f1rc8yswpoxi2fx8cvjx', 'name': 'Александр Кузнецов'}, {'_id': '1z4wuqge11hm4792ojwjr6q', 'name': 'Анна Лебедева'}, {'_id': '21iyd66tad2x1as0j2myfxo', 'name': 'Иван Кузнецов'}, {'_id': '2il52qop5siu3kvtr0w8rjt', 'name': 'Иван Смирнов'}, {'_id': '2ohq565yafsb336ybnxbnwt', 'name': 'Петр Кузнецов'}, {'_id': '2qpfue45a1tr772c2yisper', 'name': 'Константин Попов'}, {'_id': '2rh4gruu0z4z3lv2j0h82dv', 'name': 'Петр Соколов'}, {'_id': '2y9b500v1nt7fxvkfwzx4jb', 'name': 'Светлана Великая'}, {'_id': '317ikmxh4oiy5pdu9dd86kr', 'name': 'Константин Петров'}, {'_id': '3nz0o9iptq422u0wpgathgm', 'name': 'Елизавета Павлова'}, {'_id': '3s3f55hm2eutg2c6e23m44v', 'name': 'Геннадий Михайлов'}, {'_id': '42my7t6h4a3zxgrqi5xj21i', 'name': 'Александр Соколов'}, {'_id': '4oifourct3xbbcxs9efnfae', 'name': 'Евгений Попов'}, {'_id': '5jgffqb6cnqpg6cax9w2fmz', 'name': 'Елизавета Егорова'}, {'_id': '5l0zaxdj7paajfc4hphbqb0', 'name': 'Олег Смирнов'}, {'_id': '6fy51ltgk20c0qrjjtxjwot', 'name': 'Эдуард Кузнецов'}, {'_id': '6mtpwpzxml61rkhcl2s8w41', 'name': 'Алексей Васильев'}, {'_id': '7ye95o19dx52jc1dndz9auk', 'name': 'Светлана Егорова'}, {'_id': '7yx82wwrnshlszyqndgooka', 'name': 'Алексей Соколов'}, {'_id': '888k30rxwfy8kgf8lwe4qob', 'name': 'Светлана Орлова'}, {'_id': 'a7wh2fr4tyihudlluhn3m9k', 'name': 'Анна Егорова'}, {'_id': 'a8f95smxnf2dzxzfbxizoyn', 'name': 'Евгения Павлова'}, {'_id': 'afemyxzp5tpse3hyln2gogm', 'name': 'Александра Лебедева'}]\n",
      "30\n",
      "0\n",
      "[{'_id': 'b09q4c7ckcvj4b1gvt66a5w', 'name': 'Ольга Орлова'}, {'_id': 'b6nkr2j776iuctq1hjak9ln', 'name': 'Эдуард Васильев'}, {'_id': 'busuc24bppjg7mdalb5c53z', 'name': 'Эдуард Михайлов'}, {'_id': 'c22c55pgahxwoh2yzvw0cp6', 'name': 'Алексей Иванов'}, {'_id': 'c5pnkyd3ne73bo3jdx9t16o', 'name': 'Оксана Морозова'}, {'_id': 'cbrcxbggf0exvkga1nrc6uc', 'name': 'Евгения Павлова'}, {'_id': 'cpjzkk1t5r8q572ssrdqgxk', 'name': 'Надежда Егорова'}, {'_id': 'cqlnjy4wj0rc7xc4wygtnzs', 'name': 'Анна Великая'}, {'_id': 'dh044gg5jnanx2fn7sld4h6', 'name': 'Евгения Волкова'}, {'_id': 'drsb1tta8ebpqgn76zso5ql', 'name': 'Надежда Лебедева'}, {'_id': 'e2kv79z16vgxv22fl0zzbez', 'name': 'Екатерина Морозова'}, {'_id': 'e58zmxew3nqssozb9opb4sj', 'name': 'Петр Кузнецов'}, {'_id': 'et76iv627ahjz5kiiszdwgv', 'name': 'Сергей Соколов'}, {'_id': 'fg01k6ttebzxsm3b5glvvnt', 'name': 'Екатерина Великая'}, {'_id': 'fxd7z7gh4zs8j4lsumlfre5', 'name': 'Анна Лебедева'}, {'_id': 'gfjn1m1kyee6gwt8ld4kawk', 'name': 'Иван Смирнов'}, {'_id': 'h6v4npn15fg8q9tr5fvvzk6', 'name': 'Евгения Егорова'}, {'_id': 'hd9h206wv7cihzeo8dm69zu', 'name': 'Анна Великая'}, {'_id': 'hnjlbskng792uq2n3inqimj', 'name': 'Петр Иванов'}, {'_id': 'hof5gr3q9y2a2v50o8ul9p4', 'name': 'Елизавета Великая'}, {'_id': 'hp1p5qpfxdfy82qoc66hml3', 'name': 'Петр Соколов'}, {'_id': 'i32ggzdhxwtg9o98maayiv7', 'name': 'Геннадий Попов'}, {'_id': 'i833tmki71r89nzejlnoavh', 'name': 'Надежда Орлова'}, {'_id': 'ibeouy7pnilyai6xmpqbpv9', 'name': 'Ольга Волкова'}, {'_id': 'icurebnf7ssleip3mkqdaak', 'name': 'Евгений Смирнов'}, {'_id': 'irkomzonykzua02a5u17jpv', 'name': 'Александр Кузнецов'}, {'_id': 'iz9u938wj9chd6ntzipfy4c', 'name': 'Снежанна Федорова'}, {'_id': 'j19sujnsfi5sguypx9rgbes', 'name': 'Александр Михайлов'}, {'_id': 'jmgmm8ci13szn01e5yakujy', 'name': 'Анна Федорова'}, {'_id': 'jsbkq1s9m0gfr0t5zwvuts4', 'name': 'Оксана Павлова'}]\n",
      "30\n",
      "30\n",
      "[{'_id': 'kck95po8khg73qdxsv7966g', 'name': 'Александра Волкова'}, {'_id': 'kg901oswqnu0enk92zd18v5', 'name': 'Екатерина Волкова'}, {'_id': 'lcf00j61wdo1o2428lf8gxt', 'name': 'Ольга Егорова'}, {'_id': 'lui02q54ys2rsakl5spko2l', 'name': 'Светлана Морозова'}, {'_id': 'luxitb2fvm1430q553j55sa', 'name': 'Евгений Иванов'}, {'_id': 'lv082c5h2kn5cs68th0mmsw', 'name': 'Сергей Новиков'}, {'_id': 'm3c0r6dmhc8pz7thegq81j4', 'name': 'Олег Кузнецов'}, {'_id': 'mq66wearu3mxheq4rzf8unv', 'name': 'Елизавета Волкова'}, {'_id': 'nxlvaajfyw4s1dzjbge873i', 'name': 'Надежда Лебедева'}, {'_id': 'ouw15s9mvt0zqybvuqzuyk1', 'name': 'Константин Васильев'}, {'_id': 'p2m2v93vyi1u7xrscgpz7cf', 'name': 'Снежанна Морозова'}, {'_id': 'q49ov1admu0jd639hoy08yw', 'name': 'Александр Сидоров'}, {'_id': 'q4sho1hdt1iyzfzvk9j0rle', 'name': 'Александра Морозова'}, {'_id': 'q82s66uuikgck7a59f2zq4k', 'name': 'Эдуард Михайлов'}, {'_id': 'qjfsa9bo707l7j8chs7ofod', 'name': 'Александр Кузнецов'}, {'_id': 'qx7f9kz4nj9quaxzf0vala6', 'name': 'Екатерина Волкова'}, {'_id': 'ruhbi354qhb0htk33wm3qtl', 'name': 'Петр Кузнецов'}, {'_id': 'rwbajbwrv494d9ox6a8c42h', 'name': 'Александр Попов'}, {'_id': 'rwzsta9g032p76r5p9wvpxg', 'name': 'Геннадий Смирнов'}, {'_id': 'sg3uewlmtm8vzquw87isdek', 'name': 'Сергей Смирнов'}, {'_id': 'sqcrpov2wq4rjdvf5gzbf51', 'name': 'Константин Кузнецов'}, {'_id': 't490tq84or0l2d71bfv7mpp', 'name': 'Эдуард Смирнов'}, {'_id': 'tccxfkzq1vmy6o9pdxhwyog', 'name': 'Анна Морозова'}, {'_id': 'tnngt6ell7r3q3h6ksl02hi', 'name': 'Иван Сидоров'}, {'_id': 'ulttpqn8qb9hzgbgp9u6clo', 'name': 'Оксана Козлова'}, {'_id': 'ur7u9j7nvfpr3ssixvpq4so', 'name': 'Оксана Козлова'}, {'_id': 'utb9dohrsobn3ygicwc2vv2', 'name': 'Светлана Федорова'}, {'_id': 'uti01qgrsm8woi0bw2wi153', 'name': 'Евгений Михайлов'}, {'_id': 'v8dbumm62b282l7mo52llnt', 'name': 'Анна Великая'}, {'_id': 'vssm6aqwf60kqa0e09rw3lh', 'name': 'Александр Михайлов'}]\n",
      "30\n",
      "60\n",
      "[{'_id': 'wyx45pmjmo84erxihb3sj6p', 'name': 'Екатерина Алексеева'}, {'_id': 'xidlnz3k03wdlkf0wsekg7f', 'name': 'Оксана Козлова'}, {'_id': 'xrx4wf9j9kwx0za5bf2fb6w', 'name': 'Екатерина Волкова'}, {'_id': 'y5ywmhktja0us2oezckn3tp', 'name': 'Светлана Великая'}, {'_id': 'ycfrl4yg9rw7x5zc3yde73c', 'name': 'Петр Сидоров'}, {'_id': 'yk0bye0o1hey87miysmevhd', 'name': 'Александр Новиков'}, {'_id': 'ykg6ghoumvqn0aj9kwpusg2', 'name': 'Александр Кузнецов'}, {'_id': 'z5dtub0rx6v1r6etjq55we5', 'name': 'Анна Егорова'}, {'_id': 'zkwhnx9f9k0n1jzyjkbwg0u', 'name': 'Евгений Михайлов'}, {'_id': 'zvgc5hek99k6k4wpf7qumzz', 'name': 'Эдуард Сидоров'}]\n",
      "10\n",
      "90\n",
      "[]\n",
      "0\n",
      "100\n"
     ]
    }
   ],
   "source": [
    "df_couriers = get_data_from_api(**op_kwargs)"
   ]
  },
  {
   "cell_type": "code",
   "execution_count": 156,
   "metadata": {},
   "outputs": [
    {
     "data": {
      "text/plain": [
       "0"
      ]
     },
     "execution_count": 156,
     "metadata": {},
     "output_type": "execute_result"
    }
   ],
   "source": [
    "df_couriers['_id'].duplicated().sum()"
   ]
  },
  {
   "cell_type": "code",
   "execution_count": 47,
   "metadata": {},
   "outputs": [],
   "source": [
    "def get_data_from_api(**kwarg):\n",
    "    api_key = kwarg['api_key']\n",
    "    api_endpoint = kwarg['api_endpoint']\n",
    "    nickname = kwarg['nickname']\n",
    "    cohort = kwarg['cohort']\n",
    "    api_method = kwarg['api_method']\n",
    "    offset = 0\n",
    "    headers = {'X-Nickname': nickname, \n",
    "               'X-Cohort': cohort, \n",
    "               'X-API-KEY': api_key\n",
    "           }\n",
    "    \n",
    "\n",
    "    res = requests.get('https://'+api_endpoint + api_method,\n",
    "                           headers = headers, \n",
    "                           params = {'sort_field':'id', \n",
    "                                     'sort_direction':'asc',\n",
    "                                     'offset': offset})\n",
    "    print(res)\n",
    "    print(json.loads(res.content))"
   ]
  },
  {
   "cell_type": "code",
   "execution_count": null,
   "metadata": {},
   "outputs": [],
   "source": []
  }
 ],
 "metadata": {
  "kernelspec": {
   "display_name": "Python 3",
   "language": "python",
   "name": "python3"
  },
  "language_info": {
   "codemirror_mode": {
    "name": "ipython",
    "version": 3
   },
   "file_extension": ".py",
   "mimetype": "text/x-python",
   "name": "python",
   "nbconvert_exporter": "python",
   "pygments_lexer": "ipython3",
   "version": "3.11.4"
  }
 },
 "nbformat": 4,
 "nbformat_minor": 2
}
