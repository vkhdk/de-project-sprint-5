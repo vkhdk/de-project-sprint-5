{
 "cells": [
  {
   "cell_type": "code",
   "execution_count": 13,
   "metadata": {},
   "outputs": [],
   "source": [
    "import datetime as dt\n",
    "from datetime import datetime\n",
    "from secrets_p5 import secrets\n",
    "import json\n",
    "import pandas as pd\n",
    "from sqlalchemy import create_engine, text\n",
    "import requests"
   ]
  },
  {
   "cell_type": "code",
   "execution_count": 153,
   "metadata": {},
   "outputs": [],
   "source": [
    "def get_data_from_api(**kwarg):\n",
    "    api_key = kwarg['api_key']\n",
    "    api_endpoint = kwarg['api_endpoint']\n",
    "    nickname = kwarg['nickname']\n",
    "    cohort = kwarg['cohort']\n",
    "    api_method = kwarg['api_method']\n",
    "    offset = 0\n",
    "    headers = {'X-Nickname': nickname, \n",
    "               'X-Cohort': cohort, \n",
    "               'X-API-KEY': api_key\n",
    "           }\n",
    "    params = kwarg['params']\n",
    "    start_time = dt.datetime.now()\n",
    "    while (dt.datetime.now() - start_time).total_seconds() < 300:\n",
    "        res = requests.get('https://'+api_endpoint + api_method,\n",
    "                           headers = headers, \n",
    "                           params = params)\n",
    "        res_json = json.loads(res.content)\n",
    "        print(f'offset = {offset}, len(res_json) = {len(res_json)}')\n",
    "        offset = offset + len(res_json)\n",
    "        params['offset'] = offset\n",
    "        if len(res_json) == 0:\n",
    "            break\n",
    "        df = pd.DataFrame(res_json)"
   ]
  },
  {
   "cell_type": "code",
   "execution_count": 154,
   "metadata": {},
   "outputs": [],
   "source": [
    "op_kwargs = {\n",
    "        'nickname': secrets['nickname'],\n",
    "        'cohort': secrets['cohort'],\n",
    "        'api_key': secrets['api_key'],\n",
    "        'api_endpoint': secrets['api_endpoint'],\n",
    "        'pg_host': secrets['pg_host'],\n",
    "        'pg_port': secrets['pg_port'],\n",
    "        'pg_base_name': secrets['pg_base_name'],\n",
    "        'pg_user': secrets['pg_user'],\n",
    "        'pg_password': secrets['pg_password'],\n",
    "        'stage_schema_name': secrets['stage_schema_name'],\n",
    "        'dm_schema_name': secrets['dm_schema_name'],\n",
    "        'api_method': '/deliveries',\n",
    "        'params': {'sort_field':'date', \n",
    "                   'sort_direction':'asc',\n",
    "                   'limit': 10,\n",
    "                   'from': '2024-08-07 00:00:00',\n",
    "                   'to': '2024-08-07 01:40:59'}\n",
    "        }"
   ]
  },
  {
   "cell_type": "code",
   "execution_count": 155,
   "metadata": {},
   "outputs": [],
   "source": [
    "def get_data(**kwarg):\n",
    "    api_key = kwarg['api_key']\n",
    "    api_endpoint = kwarg['api_endpoint']\n",
    "    nickname = kwarg['nickname']\n",
    "    cohort = kwarg['cohort']\n",
    "    api_method = kwarg['api_method']\n",
    "    offset = 10\n",
    "    headers = {'X-Nickname': nickname, \n",
    "               'X-Cohort': cohort, \n",
    "               'X-API-KEY': api_key\n",
    "           }\n",
    "    params = kwarg['params']\n",
    "    params['offset'] = offset\n",
    "    res = requests.get('https://'+api_endpoint + api_method,\n",
    "                           headers = headers, \n",
    "                           params = params)\n",
    "    res_json = json.loads(res.content)\n",
    "    return pd.DataFrame(res_json)"
   ]
  },
  {
   "cell_type": "code",
   "execution_count": 148,
   "metadata": {},
   "outputs": [
    {
     "data": {
      "text/html": [
       "<div>\n",
       "<style scoped>\n",
       "    .dataframe tbody tr th:only-of-type {\n",
       "        vertical-align: middle;\n",
       "    }\n",
       "\n",
       "    .dataframe tbody tr th {\n",
       "        vertical-align: top;\n",
       "    }\n",
       "\n",
       "    .dataframe thead th {\n",
       "        text-align: right;\n",
       "    }\n",
       "</style>\n",
       "<table border=\"1\" class=\"dataframe\">\n",
       "  <thead>\n",
       "    <tr style=\"text-align: right;\">\n",
       "      <th></th>\n",
       "    </tr>\n",
       "  </thead>\n",
       "  <tbody>\n",
       "  </tbody>\n",
       "</table>\n",
       "</div>"
      ],
      "text/plain": [
       "Empty DataFrame\n",
       "Columns: []\n",
       "Index: []"
      ]
     },
     "execution_count": 148,
     "metadata": {},
     "output_type": "execute_result"
    }
   ],
   "source": [
    "df.head(50)"
   ]
  },
  {
   "cell_type": "code",
   "execution_count": 157,
   "metadata": {},
   "outputs": [],
   "source": [
    "import datetime\n",
    "\n",
    "current_datetime = datetime.datetime.now()"
   ]
  },
  {
   "cell_type": "code",
   "execution_count": 159,
   "metadata": {},
   "outputs": [
    {
     "name": "stdout",
     "output_type": "stream",
     "text": [
      "2024-08-04 17:41:28.326684\n"
     ]
    }
   ],
   "source": [
    "from datetime import datetime, timedelta\n",
    "\n",
    "current_datetime = datetime.now()\n",
    "seven_days_ago = current_datetime - timedelta(days=7)\n",
    "\n",
    "print(seven_days_ago)"
   ]
  },
  {
   "cell_type": "code",
   "execution_count": null,
   "metadata": {},
   "outputs": [],
   "source": [
    "date_string = current_datetime.strftime(\"%Y-%m-%d %H:%M:%S\")\n",
    "print(date_string)"
   ]
  },
  {
   "cell_type": "code",
   "execution_count": null,
   "metadata": {},
   "outputs": [],
   "source": []
  }
 ],
 "metadata": {
  "kernelspec": {
   "display_name": "Python 3",
   "language": "python",
   "name": "python3"
  },
  "language_info": {
   "codemirror_mode": {
    "name": "ipython",
    "version": 3
   },
   "file_extension": ".py",
   "mimetype": "text/x-python",
   "name": "python",
   "nbconvert_exporter": "python",
   "pygments_lexer": "ipython3",
   "version": "3.11.4"
  }
 },
 "nbformat": 4,
 "nbformat_minor": 2
}
